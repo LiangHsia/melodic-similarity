{
 "cells": [
  {
   "cell_type": "markdown",
   "metadata": {},
   "source": [
    "# DataLoader for Meertens Tune Collections"
   ]
  },
  {
   "cell_type": "code",
   "execution_count": 1,
   "metadata": {},
   "outputs": [],
   "source": [
    "import sys\n",
    "sys.path.append('../src/')"
   ]
  },
  {
   "cell_type": "code",
   "execution_count": 2,
   "metadata": {},
   "outputs": [],
   "source": [
    "#from dataloader import MTCDataLoader\n",
    "%run ../src/dataloader.py"
   ]
  },
  {
   "cell_type": "markdown",
   "metadata": {},
   "source": [
    "This notebook describes the class `DataLoader` and derived class `MTCDataLoader`.\n",
    "\n",
    "A `DataLoader` object takes as source a `.jsonl` file (optionally gzipped), which is a text file with a json object on each line. An object contains `metadata` fields and several sequences of feature values. E.g.\n",
    "```\n",
    "{'id': 'NLB178968_01',\n",
    " 'type': 'vocal',\n",
    " 'features': {'pitch40': [135, 141, 147,             [...] 158, 135],\n",
    "              'scaledegree': [1, 2, 3, 4, 5, 1, 6,   [...] 2, 5, 1],\n",
    "              'tonic': ['E', 'E', 'E', 'E', 'E',     [...] 'E', 'E'],\n",
    "              'mode': ['major', 'major', 'major',    [...] 'major'],\n",
    "              'pitch': ['E4', 'F#4', 'G#4', 'A4',    [...] 'B4', 'E4'],\n",
    "              'midipitch: [64, 66, 68, 69, 71, 76,   [...] 71, 64],\n",
    "              'diatonicinterval': [0, 1, 1, 1, 1, 3, [...] -6, 3, -4],\n",
    "              'chromaticinterval': [[0, 2, 2, 1, 2,  [...] -10, 5, -7],\n",
    "              'contour3': [\"=\", \"+\", \"+\", \"+\", \"+\",  [...] \"-\", \"+\", \"-\"],\n",
    "              'contour5': [\"=\", \"+\", \"+\", \"+\", \"+\",  [...] \"--\", \"++\", \"--\"],\n",
    "              'duration': [0.125, 0.125, 0.125,      [...] 0.25, 0.5],\n",
    "              'IOR': [1.0, 1.0, 1.0, 1.0, 2.0, 1.0,  [...] 1.0, 2.0],\n",
    "              'beat': ['1', '1', '2', '2', '1', '2', [...] '2', '1'],\n",
    "              'beat_fraction': ['0', '1/2', '0',     [...] '0', '0'],\n",
    "              'beatstrength': [1.0, 0.25, 0.5, 0.25, [...] 1.0, 0.5, 1.0],\n",
    "              'metriccontour': ['+', '-', '+', '-',  [...] '-', '+'],\n",
    "              'imaweight': [0.810269, 0.068949,      [...] 0.843521],\n",
    "              'imacontour': ['+', '-', '+', '-',     [...] '-', '+'],\n",
    "              'timesignature': [\"2/4\", \"2/4\", \"2/4\", [...] \"2/4\", \"2/4\"],\n",
    "              'phrasepos': [0.0, 0.071429, 0.142857, [...] 0.833333, 1.0]},\n",
    " 'year': 1866,\n",
    " 'tunefamily': '1302_0',\n",
    " 'ann_bgcorpus': True\n",
    "```\n",
    "In this example the metadata fields are `id`, `type`, `year`, `tunefamily`, and `ann_bgcorpus`. The named object `features` contains several sequences of feature values. For DataLoader to function properly, the only required object is `features`."
   ]
  },
  {
   "cell_type": "markdown",
   "metadata": {},
   "source": [
    "The `DataLoader` class provides various functionalities:\n",
    "* Melody Filtering : select melodies according to given criteria\n",
    "* Feature selection : keep subset of features\n",
    "* Feature extraction : compute a new feature from existing features and add it to the object\n",
    "* Split data in train/test sets while respecting groupings"
   ]
  },
  {
   "cell_type": "markdown",
   "metadata": {},
   "source": [
    "Operations can be chained. All feature extractors, feature selectors and object filters return an interator over the sequences. Each has an argument `seq_iter`. If `seq_iter==None` (default) the `.jsonl` file is taken as data source and a new iterator is created. Otherwise the provided iterator is taken as data source."
   ]
  },
  {
   "cell_type": "markdown",
   "metadata": {},
   "source": [
    "## Melody Filters"
   ]
  },
  {
   "cell_type": "markdown",
   "metadata": {},
   "source": [
    "### Available filters"
   ]
  },
  {
   "cell_type": "markdown",
   "metadata": {},
   "source": [
    "The following filters are registered in class `MTCDataLoader`\n",
    "\n",
    "* `vocal` : Only keep vocal melodies\n",
    "* `instrumental` : Only keep instrumental melodies\n",
    "* `ann_bgcorpus` : Only keep melodies unrelated to MTC-ANN (only applicable to MTC-FS-INST)\n",
    "* `labeled` : Only keep melodies with a tune family label\n",
    "* `unlabeled`: Only keep melodies without a tune family label\n",
    "* `afteryear(year)` : Only keep melodies in sources dated later than `year` (`year` not included)\n",
    "* `beforeyear(year)` : Only keep melodies in sources dated before `year` (`year` not included)\n",
    "* `betweenyears(year1, year2)` : Only keep melodies in sources dated between `year1` and `year2` (both not included)\n",
    "* `inOGL` : Only keep melodies that are part of Onder de Groene Linde\n",
    "* `inList(id_list)` : Only keep melodies with given identifiers in `id_list`\n",
    "\n",
    "Available as separate functions:\n",
    "\n",
    "* `DataLoader.minClassSizeFilter(self, classfeature, mininum=0, seq_iter=None)` : Keeps only melodies in classes with >= `minimum` members.<br>\n",
    "`classfeature` (string) : name of the feature to use for counting.\n",
    "* `DataLoader.maxClassSizeFilter(self, classfeature, maximum=100, seq_iter=None)` : Keeps only melodies in classes with <= `maximum` members.<br>\n",
    "`classfeature` (string) : name of the feature to use for counting."
   ]
  },
  {
   "cell_type": "markdown",
   "metadata": {},
   "source": [
    "### How to: apply filter"
   ]
  },
  {
   "cell_type": "code",
   "execution_count": 3,
   "metadata": {},
   "outputs": [],
   "source": [
    "dl = MTCDataLoader('../data/mtcann_sequences.jsonl.gz')\n",
    "seq_iter = dl.applyFilter('vocal')"
   ]
  },
  {
   "cell_type": "markdown",
   "metadata": {},
   "source": [
    "If a filter has arguments, these sould be provided with the filtername as tuple."
   ]
  },
  {
   "cell_type": "code",
   "execution_count": 4,
   "metadata": {},
   "outputs": [],
   "source": [
    "seq_iter = dl.applyFilter( ('afteryear', 1950) )\n",
    "seq_iter = dl.applyFilter( ('betweenyears', 1850, 1900) )"
   ]
  },
  {
   "cell_type": "markdown",
   "metadata": {},
   "source": [
    "Keep only songs in tune families with more than 10 members:"
   ]
  },
  {
   "cell_type": "code",
   "execution_count": 5,
   "metadata": {},
   "outputs": [],
   "source": [
    "seq_iter = dl.minClassSizeFilter('tunefamily', 10)"
   ]
  },
  {
   "cell_type": "markdown",
   "metadata": {},
   "source": [
    "### How to: register a filter"
   ]
  },
  {
   "cell_type": "markdown",
   "metadata": {},
   "source": [
    "Use method `DataLoader.registerFilter(self, name, o_filter)`\n",
    "<br>\n",
    "`o_filter` : function returning `false` if the object should be kept."
   ]
  },
  {
   "cell_type": "code",
   "execution_count": 6,
   "metadata": {},
   "outputs": [],
   "source": [
    "dl.registerFilter('vocal', lambda x: not ( x['type'] == 'vocal'))"
   ]
  },
  {
   "cell_type": "markdown",
   "metadata": {},
   "source": [
    "Register a filter with arguments:"
   ]
  },
  {
   "cell_type": "code",
   "execution_count": 7,
   "metadata": {},
   "outputs": [],
   "source": [
    "dl.registerFilter('afteryear', lambda y: lambda x: not ( x['year'] > y ))"
   ]
  },
  {
   "cell_type": "markdown",
   "metadata": {},
   "source": [
    "## Feature Extractors"
   ]
  },
  {
   "cell_type": "markdown",
   "metadata": {},
   "source": [
    "### Available Feature Extractors"
   ]
  },
  {
   "cell_type": "markdown",
   "metadata": {},
   "source": [
    "In class `MTCDataLoader`:\n",
    "* `full_beat` : concat `beat` and `beat_fraction`"
   ]
  },
  {
   "cell_type": "markdown",
   "metadata": {},
   "source": [
    "The following Feature Extractor is available as separate function:\n",
    "<br>\n",
    "`DataLoader.concatAllFeatures(self, name='concat', seq_iter=None)`<br>\n",
    "`name` : name of the new feature<br>"
   ]
  },
  {
   "cell_type": "markdown",
   "metadata": {},
   "source": [
    "### How to: apply a Feature Extractor"
   ]
  },
  {
   "cell_type": "markdown",
   "metadata": {},
   "source": [
    "Use method `DataLoader.applyFeatureExtractor(self, name, seq_iter=None)`\n",
    "<br>\n",
    "`name` : name (string) of the extractor "
   ]
  },
  {
   "cell_type": "code",
   "execution_count": 8,
   "metadata": {},
   "outputs": [],
   "source": [
    "seq_iter = dl.applyFeatureExtractor('full_beat_str')"
   ]
  },
  {
   "cell_type": "markdown",
   "metadata": {},
   "source": [
    "## Feature Selector"
   ]
  },
  {
   "cell_type": "markdown",
   "metadata": {},
   "source": [
    "E.g. only retain features `midipitch` and `IOR`:"
   ]
  },
  {
   "cell_type": "code",
   "execution_count": 9,
   "metadata": {},
   "outputs": [],
   "source": [
    "seq_iter = dl.selectFeatures(['midipitch', 'IOR'])"
   ]
  },
  {
   "cell_type": "markdown",
   "metadata": {},
   "source": [
    "## Generate test/train set"
   ]
  },
  {
   "cell_type": "markdown",
   "metadata": {},
   "source": [
    "Use `DataLoader.train_test_split(self, groupby=None, test_size='default', train_size=None, random_state=None, seq_iter=None)`\n",
    "<br>\n",
    "`groupby` (string) : name of feature to use for group-level split<br>\n",
    "`test_size`, `train_size`, `random_state` : see doc for sklearn.model_selection.train_test_split()."
   ]
  },
  {
   "cell_type": "markdown",
   "metadata": {},
   "source": [
    "# Example Configurations"
   ]
  },
  {
   "cell_type": "markdown",
   "metadata": {},
   "source": [
    "### Very basic feature configuration: pitch"
   ]
  },
  {
   "cell_type": "markdown",
   "metadata": {},
   "source": [
    "objects: all songs in MTC-ANN.\n",
    "<br>\n",
    "features: midipitch"
   ]
  },
  {
   "cell_type": "code",
   "execution_count": 10,
   "metadata": {},
   "outputs": [],
   "source": [
    "dl = MTCDataLoader('../data/mtcann_sequences.jsonl.gz')\n",
    "train, test = dl.train_test_split(test_size=0.1, seq_iter=dl.selectFeatures(['midipitch']))"
   ]
  },
  {
   "cell_type": "markdown",
   "metadata": {},
   "source": [
    "### Very basic feature configuration: pitch and duration"
   ]
  },
  {
   "cell_type": "markdown",
   "metadata": {},
   "source": [
    "objects: all songs in MTC-ANN\n",
    "<br>\n",
    "features: midipitch and duration"
   ]
  },
  {
   "cell_type": "code",
   "execution_count": 11,
   "metadata": {},
   "outputs": [],
   "source": [
    "dl = MTCDataLoader('../data/mtcann_sequences.jsonl.gz')\n",
    "train, test = dl.train_test_split(test_size=0.1, seq_iter=dl.selectFeatures(['midipitch', 'duration']))"
   ]
  },
  {
   "cell_type": "markdown",
   "metadata": {},
   "source": [
    "### Basic feature configuration: intervals and inter onset interval ratios"
   ]
  },
  {
   "cell_type": "markdown",
   "metadata": {},
   "source": [
    "objects: all songs in MTC-ANN<br>\n",
    "features: chromaticinterval and IOR"
   ]
  },
  {
   "cell_type": "code",
   "execution_count": 12,
   "metadata": {},
   "outputs": [],
   "source": [
    "dl = MTCDataLoader('../data/mtcann_sequences.jsonl.gz')\n",
    "train, test = dl.train_test_split(test_size=0.1, seq_iter=dl.selectFeatures(['chromaticinterval', 'IOR']))"
   ]
  },
  {
   "cell_type": "markdown",
   "metadata": {},
   "source": [
    "### Advanced feature configuration"
   ]
  },
  {
   "cell_type": "markdown",
   "metadata": {},
   "source": [
    "objects: all songs in MTC-ANN\n",
    "<br>\n",
    "features: scale degree, metric contour and beat position"
   ]
  },
  {
   "cell_type": "code",
   "execution_count": 13,
   "metadata": {},
   "outputs": [],
   "source": [
    "dl = MTCDataLoader('../data/mtcann_sequences.jsonl.gz')\n",
    "sel = dl.selectFeatures(['scaledegree','metriccontour','full_beat_str'],\n",
    "                        seq_iter=dl.applyFeatureExtractor('full_beat_str'))"
   ]
  },
  {
   "cell_type": "markdown",
   "metadata": {},
   "source": [
    "### Train with background-corpus, Test with MTC-ANN"
   ]
  },
  {
   "cell_type": "code",
   "execution_count": 14,
   "metadata": {},
   "outputs": [],
   "source": [
    "fs_dl = MTCDataLoader('../data/mtcfsinst_sequences.jsonl.gz')\n",
    "ann_dl = MTCDataLoader('../data/mtcann_sequences.jsonl.gz')\n",
    "train = list( fs_dl.applyFilter('ann_bgcorpus') )\n",
    "test = list( ann_dl.sequences() )"
   ]
  },
  {
   "cell_type": "markdown",
   "metadata": {},
   "source": [
    "### Train and test with Onder De Groene Linde songs only"
   ]
  },
  {
   "cell_type": "code",
   "execution_count": 15,
   "metadata": {},
   "outputs": [],
   "source": [
    "fs_dl = MTCDataLoader('../data/mtcfsinst_sequences.jsonl.gz')\n",
    "train, test = fs_dl.train_test_split(test_size=0.1, seq_iter=fs_dl.applyFilter('inOGL',\n",
    "                                                    seq_iter=fs_dl.applyFilter('labeled')))"
   ]
  },
  {
   "cell_type": "markdown",
   "metadata": {},
   "source": [
    "If desired the split can be done respecting the tune family groupings:  "
   ]
  },
  {
   "cell_type": "code",
   "execution_count": 16,
   "metadata": {},
   "outputs": [],
   "source": [
    "train, test = fs_dl.train_test_split(test_size=0.1, groupby='tunefamily', seq_iter=fs_dl.applyFilter('inOGL'))"
   ]
  },
  {
   "cell_type": "markdown",
   "metadata": {},
   "source": [
    "### Train and test with 17th and 18th century fiddle music only"
   ]
  },
  {
   "cell_type": "code",
   "execution_count": 17,
   "metadata": {},
   "outputs": [],
   "source": [
    "fs_dl = MTCDataLoader('../data/mtcfsinst_sequences.jsonl.gz')\n",
    "\n",
    "sel_instr = fs_dl.applyFilter('instrumental')\n",
    "sel_17th18th_c = fs_dl.applyFilter( ('betweenyears', 1600, 1800), seq_iter=sel_instr )\n",
    "sel_labeled = fs_dl.applyFilter('labeled', seq_iter=sel_17th18th_c)\n",
    "\n",
    "train, test = fs_dl.train_test_split(test_size=0.1, seq_iter=sel_labeled)"
   ]
  },
  {
   "cell_type": "markdown",
   "metadata": {},
   "source": [
    "### Obtain all unlabeled 17th/18th century fiddle songs"
   ]
  },
  {
   "cell_type": "code",
   "execution_count": 18,
   "metadata": {},
   "outputs": [],
   "source": [
    "fs_dl = MTCDataLoader('../data/mtcfsinst_sequences.jsonl.gz')\n",
    "\n",
    "sel_instr = fs_dl.applyFilter('instrumental')\n",
    "sel_17th18th_c = fs_dl.applyFilter( ('betweenyears', 1600, 1800), seq_iter=sel_instr )\n",
    "sel_unlabeled = fs_dl.applyFilter('unlabeled', seq_iter=sel_17th18th_c)"
   ]
  },
  {
   "cell_type": "markdown",
   "metadata": {},
   "source": [
    "### Use big tune families (>=20 melodies) for training"
   ]
  },
  {
   "cell_type": "code",
   "execution_count": 19,
   "metadata": {},
   "outputs": [],
   "source": [
    "fs_dl = MTCDataLoader('../data/mtcfsinst_sequences.jsonl.gz')\n",
    "\n",
    "sel_big = fs_dl.minClassSizeFilter('tunefamily', 20)\n",
    "\n",
    "train, test = fs_dl.train_test_split(test_size=0.1, groupby='tunefamily', seq_iter=sel_big)"
   ]
  },
  {
   "cell_type": "markdown",
   "metadata": {},
   "source": [
    "### Use small tune families (<=5 melodies) only"
   ]
  },
  {
   "cell_type": "code",
   "execution_count": 20,
   "metadata": {},
   "outputs": [],
   "source": [
    "fs_dl = MTCDataLoader('../data/mtcfsinst_sequences.jsonl.gz')\n",
    "\n",
    "sel_small = fs_dl.maxClassSizeFilter('tunefamily', 5)"
   ]
  },
  {
   "cell_type": "markdown",
   "metadata": {},
   "source": [
    "### Use only melodies with given identifiers"
   ]
  },
  {
   "cell_type": "code",
   "execution_count": 21,
   "metadata": {},
   "outputs": [],
   "source": [
    "fs_dl = MTCDataLoader('../data/mtcfsinst_sequences.jsonl.gz')\n",
    "id_list = ['NLB125814_01','NLB125815_01','NLB125817_01','NLB125818_01','NLB125822_01','NLB125823_01']\n",
    "sel_list = fs_dl.applyFilter( ('inList', id_list) )"
   ]
  }
 ],
 "metadata": {
  "kernelspec": {
   "display_name": "Python 3",
   "language": "python",
   "name": "python3"
  },
  "language_info": {
   "codemirror_mode": {
    "name": "ipython",
    "version": 3
   },
   "file_extension": ".py",
   "mimetype": "text/x-python",
   "name": "python",
   "nbconvert_exporter": "python",
   "pygments_lexer": "ipython3",
   "version": "3.6.8"
  }
 },
 "nbformat": 4,
 "nbformat_minor": 2
}
